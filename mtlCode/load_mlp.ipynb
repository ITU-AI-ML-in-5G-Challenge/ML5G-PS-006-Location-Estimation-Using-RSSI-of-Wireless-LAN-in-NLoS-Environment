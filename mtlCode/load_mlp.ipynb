{
 "cells": [
  {
   "cell_type": "markdown",
   "id": "3281ffa1-b7d0-4942-9cf6-f53c8108465c",
   "metadata": {},
   "source": [
    "# Multi-task learning on RSSI based location estimation"
   ]
  },
  {
   "cell_type": "code",
   "execution_count": 54,
   "id": "5c5ff58c-1571-42b2-b0e5-44c0f1d090f8",
   "metadata": {},
   "outputs": [],
   "source": [
    "import os\n",
    "import pandas as pd\n",
    "import numpy as np\n",
    "import torch\n",
    "import torch.nn as nn\n",
    "import warnings\n",
    "warnings.filterwarnings('ignore')\n",
    "\n",
    "from sklearn.preprocessing import StandardScaler\n",
    "\n",
    "from torch.utils.data import DataLoader\n",
    "# from mlpdataset import RSSIDataset\n",
    "# from model import MLP\n",
    "from torch.utils.data import Dataset\n",
    "# from early_stoping import EarlyStopping\n",
    "# from tdqm import tdqm, trange\n",
    "\n",
    "from IPython.core.interactiveshell import InteractiveShell\n",
    "InteractiveShell.ast_node_interactivity = 'all'\n",
    "\n",
    "import matplotlib.pyplot as plt\n",
    "plt.rcParams['font.sans-serif'] = ['simhei']\n",
    "plt.rcParams['axes.unicode_minus'] = False"
   ]
  },
  {
   "cell_type": "markdown",
   "id": "b51c78fc-bb1b-4eba-be9d-1709306995ce",
   "metadata": {},
   "source": [
    "## Data precoss"
   ]
  },
  {
   "cell_type": "markdown",
   "id": "499ff4a9-45de-4a91-b321-52ac7e759966",
   "metadata": {},
   "source": [
    "### Load augmented data coped by baseline.ipynb"
   ]
  },
  {
   "cell_type": "code",
   "execution_count": 55,
   "id": "b2fa0919-812a-4837-8ec0-f0cf643e006f",
   "metadata": {},
   "outputs": [],
   "source": [
    "train_df = pd.read_csv('./train_aug.csv')\n",
    "test_df = pd.read_csv('./ver_aug.csv')"
   ]
  },
  {
   "cell_type": "code",
   "execution_count": 56,
   "id": "56b752ca-e792-4c37-85fe-e8c2c21ac70b",
   "metadata": {},
   "outputs": [],
   "source": [
    "train_df.drop(columns=['UnixTime'], inplace=True)\n",
    "test_df.drop(columns=['UnixTime'], inplace=True)"
   ]
  },
  {
   "cell_type": "code",
   "execution_count": 57,
   "id": "177c5213-9225-482c-89a6-d1c34eccca8b",
   "metadata": {},
   "outputs": [
    {
     "data": {
      "text/html": [
       "<div>\n",
       "<style scoped>\n",
       "    .dataframe tbody tr th:only-of-type {\n",
       "        vertical-align: middle;\n",
       "    }\n",
       "\n",
       "    .dataframe tbody tr th {\n",
       "        vertical-align: top;\n",
       "    }\n",
       "\n",
       "    .dataframe thead th {\n",
       "        text-align: right;\n",
       "    }\n",
       "</style>\n",
       "<table border=\"1\" class=\"dataframe\">\n",
       "  <thead>\n",
       "    <tr style=\"text-align: right;\">\n",
       "      <th></th>\n",
       "      <th>Latitude</th>\n",
       "      <th>Longitude</th>\n",
       "      <th>SSID_1</th>\n",
       "      <th>RSSI(dBm)_1</th>\n",
       "      <th>Obstacle_1</th>\n",
       "      <th>latitude_1</th>\n",
       "      <th>longitude_1</th>\n",
       "      <th>SSID_2</th>\n",
       "      <th>RSSI(dBm)_2</th>\n",
       "      <th>Obstacle_2</th>\n",
       "      <th>latitude_2</th>\n",
       "      <th>longitude_2</th>\n",
       "      <th>SSID_3</th>\n",
       "      <th>RSSI(dBm)_3</th>\n",
       "      <th>Obstacle_3</th>\n",
       "      <th>latitude_3</th>\n",
       "      <th>longitude_3</th>\n",
       "    </tr>\n",
       "  </thead>\n",
       "  <tbody>\n",
       "    <tr>\n",
       "      <th>0</th>\n",
       "      <td>35.158622</td>\n",
       "      <td>136.924466</td>\n",
       "      <td>1</td>\n",
       "      <td>-66</td>\n",
       "      <td>0</td>\n",
       "      <td>35.158613</td>\n",
       "      <td>136.924697</td>\n",
       "      <td>2</td>\n",
       "      <td>-62</td>\n",
       "      <td>0</td>\n",
       "      <td>35.158638</td>\n",
       "      <td>136.924374</td>\n",
       "      <td>3</td>\n",
       "      <td>-63</td>\n",
       "      <td>0</td>\n",
       "      <td>35.158979</td>\n",
       "      <td>136.924477</td>\n",
       "    </tr>\n",
       "    <tr>\n",
       "      <th>1</th>\n",
       "      <td>35.158622</td>\n",
       "      <td>136.924466</td>\n",
       "      <td>1</td>\n",
       "      <td>-66</td>\n",
       "      <td>0</td>\n",
       "      <td>35.158613</td>\n",
       "      <td>136.924697</td>\n",
       "      <td>3</td>\n",
       "      <td>-63</td>\n",
       "      <td>0</td>\n",
       "      <td>35.158979</td>\n",
       "      <td>136.924477</td>\n",
       "      <td>2</td>\n",
       "      <td>-62</td>\n",
       "      <td>0</td>\n",
       "      <td>35.158638</td>\n",
       "      <td>136.924374</td>\n",
       "    </tr>\n",
       "    <tr>\n",
       "      <th>2</th>\n",
       "      <td>35.158622</td>\n",
       "      <td>136.924466</td>\n",
       "      <td>2</td>\n",
       "      <td>-62</td>\n",
       "      <td>0</td>\n",
       "      <td>35.158638</td>\n",
       "      <td>136.924374</td>\n",
       "      <td>1</td>\n",
       "      <td>-66</td>\n",
       "      <td>0</td>\n",
       "      <td>35.158613</td>\n",
       "      <td>136.924697</td>\n",
       "      <td>3</td>\n",
       "      <td>-63</td>\n",
       "      <td>0</td>\n",
       "      <td>35.158979</td>\n",
       "      <td>136.924477</td>\n",
       "    </tr>\n",
       "    <tr>\n",
       "      <th>3</th>\n",
       "      <td>35.158622</td>\n",
       "      <td>136.924466</td>\n",
       "      <td>2</td>\n",
       "      <td>-62</td>\n",
       "      <td>0</td>\n",
       "      <td>35.158638</td>\n",
       "      <td>136.924374</td>\n",
       "      <td>3</td>\n",
       "      <td>-63</td>\n",
       "      <td>0</td>\n",
       "      <td>35.158979</td>\n",
       "      <td>136.924477</td>\n",
       "      <td>1</td>\n",
       "      <td>-66</td>\n",
       "      <td>0</td>\n",
       "      <td>35.158613</td>\n",
       "      <td>136.924697</td>\n",
       "    </tr>\n",
       "    <tr>\n",
       "      <th>4</th>\n",
       "      <td>35.158622</td>\n",
       "      <td>136.924466</td>\n",
       "      <td>3</td>\n",
       "      <td>-63</td>\n",
       "      <td>0</td>\n",
       "      <td>35.158979</td>\n",
       "      <td>136.924477</td>\n",
       "      <td>1</td>\n",
       "      <td>-66</td>\n",
       "      <td>0</td>\n",
       "      <td>35.158613</td>\n",
       "      <td>136.924697</td>\n",
       "      <td>2</td>\n",
       "      <td>-62</td>\n",
       "      <td>0</td>\n",
       "      <td>35.158638</td>\n",
       "      <td>136.924374</td>\n",
       "    </tr>\n",
       "  </tbody>\n",
       "</table>\n",
       "</div>"
      ],
      "text/plain": [
       "    Latitude   Longitude  SSID_1  RSSI(dBm)_1  Obstacle_1  latitude_1  \\\n",
       "0  35.158622  136.924466       1          -66           0   35.158613   \n",
       "1  35.158622  136.924466       1          -66           0   35.158613   \n",
       "2  35.158622  136.924466       2          -62           0   35.158638   \n",
       "3  35.158622  136.924466       2          -62           0   35.158638   \n",
       "4  35.158622  136.924466       3          -63           0   35.158979   \n",
       "\n",
       "   longitude_1  SSID_2  RSSI(dBm)_2  Obstacle_2  latitude_2  longitude_2  \\\n",
       "0   136.924697       2          -62           0   35.158638   136.924374   \n",
       "1   136.924697       3          -63           0   35.158979   136.924477   \n",
       "2   136.924374       1          -66           0   35.158613   136.924697   \n",
       "3   136.924374       3          -63           0   35.158979   136.924477   \n",
       "4   136.924477       1          -66           0   35.158613   136.924697   \n",
       "\n",
       "   SSID_3  RSSI(dBm)_3  Obstacle_3  latitude_3  longitude_3  \n",
       "0       3          -63           0   35.158979   136.924477  \n",
       "1       2          -62           0   35.158638   136.924374  \n",
       "2       3          -63           0   35.158979   136.924477  \n",
       "3       1          -66           0   35.158613   136.924697  \n",
       "4       2          -62           0   35.158638   136.924374  "
      ]
     },
     "execution_count": 57,
     "metadata": {},
     "output_type": "execute_result"
    }
   ],
   "source": [
    "train_df.head()"
   ]
  },
  {
   "cell_type": "code",
   "execution_count": 58,
   "id": "aee98aa4-5807-4ffa-a530-2c4a4d7bad37",
   "metadata": {},
   "outputs": [
    {
     "data": {
      "text/html": [
       "<div>\n",
       "<style scoped>\n",
       "    .dataframe tbody tr th:only-of-type {\n",
       "        vertical-align: middle;\n",
       "    }\n",
       "\n",
       "    .dataframe tbody tr th {\n",
       "        vertical-align: top;\n",
       "    }\n",
       "\n",
       "    .dataframe thead th {\n",
       "        text-align: right;\n",
       "    }\n",
       "</style>\n",
       "<table border=\"1\" class=\"dataframe\">\n",
       "  <thead>\n",
       "    <tr style=\"text-align: right;\">\n",
       "      <th></th>\n",
       "      <th>Latitude</th>\n",
       "      <th>Longitude</th>\n",
       "      <th>SSID_1</th>\n",
       "      <th>RSSI(dBm)_1</th>\n",
       "      <th>Obstacle_1</th>\n",
       "      <th>latitude_1</th>\n",
       "      <th>longitude_1</th>\n",
       "      <th>SSID_2</th>\n",
       "      <th>RSSI(dBm)_2</th>\n",
       "      <th>Obstacle_2</th>\n",
       "      <th>latitude_2</th>\n",
       "      <th>longitude_2</th>\n",
       "      <th>SSID_3</th>\n",
       "      <th>RSSI(dBm)_3</th>\n",
       "      <th>Obstacle_3</th>\n",
       "      <th>latitude_3</th>\n",
       "      <th>longitude_3</th>\n",
       "    </tr>\n",
       "  </thead>\n",
       "  <tbody>\n",
       "    <tr>\n",
       "      <th>0</th>\n",
       "      <td>35.158649</td>\n",
       "      <td>136.924393</td>\n",
       "      <td>1</td>\n",
       "      <td>-75</td>\n",
       "      <td>0</td>\n",
       "      <td>35.158613</td>\n",
       "      <td>136.924697</td>\n",
       "      <td>2</td>\n",
       "      <td>-63</td>\n",
       "      <td>0</td>\n",
       "      <td>35.158638</td>\n",
       "      <td>136.924374</td>\n",
       "      <td>3</td>\n",
       "      <td>-72</td>\n",
       "      <td>0</td>\n",
       "      <td>35.158979</td>\n",
       "      <td>136.924477</td>\n",
       "    </tr>\n",
       "    <tr>\n",
       "      <th>1</th>\n",
       "      <td>35.158649</td>\n",
       "      <td>136.924393</td>\n",
       "      <td>1</td>\n",
       "      <td>-75</td>\n",
       "      <td>0</td>\n",
       "      <td>35.158613</td>\n",
       "      <td>136.924697</td>\n",
       "      <td>3</td>\n",
       "      <td>-72</td>\n",
       "      <td>0</td>\n",
       "      <td>35.158979</td>\n",
       "      <td>136.924477</td>\n",
       "      <td>2</td>\n",
       "      <td>-63</td>\n",
       "      <td>0</td>\n",
       "      <td>35.158638</td>\n",
       "      <td>136.924374</td>\n",
       "    </tr>\n",
       "    <tr>\n",
       "      <th>2</th>\n",
       "      <td>35.158649</td>\n",
       "      <td>136.924393</td>\n",
       "      <td>2</td>\n",
       "      <td>-63</td>\n",
       "      <td>0</td>\n",
       "      <td>35.158638</td>\n",
       "      <td>136.924374</td>\n",
       "      <td>1</td>\n",
       "      <td>-75</td>\n",
       "      <td>0</td>\n",
       "      <td>35.158613</td>\n",
       "      <td>136.924697</td>\n",
       "      <td>3</td>\n",
       "      <td>-72</td>\n",
       "      <td>0</td>\n",
       "      <td>35.158979</td>\n",
       "      <td>136.924477</td>\n",
       "    </tr>\n",
       "    <tr>\n",
       "      <th>3</th>\n",
       "      <td>35.158649</td>\n",
       "      <td>136.924393</td>\n",
       "      <td>2</td>\n",
       "      <td>-63</td>\n",
       "      <td>0</td>\n",
       "      <td>35.158638</td>\n",
       "      <td>136.924374</td>\n",
       "      <td>3</td>\n",
       "      <td>-72</td>\n",
       "      <td>0</td>\n",
       "      <td>35.158979</td>\n",
       "      <td>136.924477</td>\n",
       "      <td>1</td>\n",
       "      <td>-75</td>\n",
       "      <td>0</td>\n",
       "      <td>35.158613</td>\n",
       "      <td>136.924697</td>\n",
       "    </tr>\n",
       "    <tr>\n",
       "      <th>4</th>\n",
       "      <td>35.158649</td>\n",
       "      <td>136.924393</td>\n",
       "      <td>3</td>\n",
       "      <td>-72</td>\n",
       "      <td>0</td>\n",
       "      <td>35.158979</td>\n",
       "      <td>136.924477</td>\n",
       "      <td>1</td>\n",
       "      <td>-75</td>\n",
       "      <td>0</td>\n",
       "      <td>35.158613</td>\n",
       "      <td>136.924697</td>\n",
       "      <td>2</td>\n",
       "      <td>-63</td>\n",
       "      <td>0</td>\n",
       "      <td>35.158638</td>\n",
       "      <td>136.924374</td>\n",
       "    </tr>\n",
       "  </tbody>\n",
       "</table>\n",
       "</div>"
      ],
      "text/plain": [
       "    Latitude   Longitude  SSID_1  RSSI(dBm)_1  Obstacle_1  latitude_1  \\\n",
       "0  35.158649  136.924393       1          -75           0   35.158613   \n",
       "1  35.158649  136.924393       1          -75           0   35.158613   \n",
       "2  35.158649  136.924393       2          -63           0   35.158638   \n",
       "3  35.158649  136.924393       2          -63           0   35.158638   \n",
       "4  35.158649  136.924393       3          -72           0   35.158979   \n",
       "\n",
       "   longitude_1  SSID_2  RSSI(dBm)_2  Obstacle_2  latitude_2  longitude_2  \\\n",
       "0   136.924697       2          -63           0   35.158638   136.924374   \n",
       "1   136.924697       3          -72           0   35.158979   136.924477   \n",
       "2   136.924374       1          -75           0   35.158613   136.924697   \n",
       "3   136.924374       3          -72           0   35.158979   136.924477   \n",
       "4   136.924477       1          -75           0   35.158613   136.924697   \n",
       "\n",
       "   SSID_3  RSSI(dBm)_3  Obstacle_3  latitude_3  longitude_3  \n",
       "0       3          -72           0   35.158979   136.924477  \n",
       "1       2          -63           0   35.158638   136.924374  \n",
       "2       3          -72           0   35.158979   136.924477  \n",
       "3       1          -75           0   35.158613   136.924697  \n",
       "4       2          -63           0   35.158638   136.924374  "
      ]
     },
     "execution_count": 58,
     "metadata": {},
     "output_type": "execute_result"
    }
   ],
   "source": [
    "test_df.head()"
   ]
  },
  {
   "cell_type": "code",
   "execution_count": 59,
   "id": "0a619aa2-4241-41f2-808d-7e5a8d35a1ae",
   "metadata": {},
   "outputs": [],
   "source": [
    "x_ol, y_ol = train_df['Latitude'].values, train_df['Longitude'].values\n",
    "x_tol, y_tol = test_df['Latitude'].values.copy(), test_df['Longitude'].values.copy()"
   ]
  },
  {
   "cell_type": "code",
   "execution_count": 60,
   "id": "4775633b",
   "metadata": {},
   "outputs": [
    {
     "data": {
      "text/plain": [
       "array([35.15864898, 35.15864898, 35.15864898, ..., 35.15859294,\n",
       "       35.15859294, 35.15859294])"
      ]
     },
     "execution_count": 60,
     "metadata": {},
     "output_type": "execute_result"
    }
   ],
   "source": [
    "x_tol"
   ]
  },
  {
   "cell_type": "code",
   "execution_count": 61,
   "id": "b864217b-2fb5-457f-b933-49fc8df12950",
   "metadata": {},
   "outputs": [
    {
     "data": {
      "text/plain": [
       "Index(['Latitude', 'Longitude', 'SSID_1', 'RSSI(dBm)_1', 'Obstacle_1',\n",
       "       'latitude_1', 'longitude_1', 'SSID_2', 'RSSI(dBm)_2', 'Obstacle_2',\n",
       "       'latitude_2', 'longitude_2', 'SSID_3', 'RSSI(dBm)_3', 'Obstacle_3',\n",
       "       'latitude_3', 'longitude_3'],\n",
       "      dtype='object')"
      ]
     },
     "execution_count": 61,
     "metadata": {},
     "output_type": "execute_result"
    }
   ],
   "source": [
    "train_df.columns"
   ]
  },
  {
   "cell_type": "markdown",
   "id": "86d2bd9e-fe0f-4084-958b-906c40e43a3a",
   "metadata": {},
   "source": [
    "### Standarization"
   ]
  },
  {
   "cell_type": "code",
   "execution_count": 62,
   "id": "c3417953-8933-414f-855a-f553d73b6561",
   "metadata": {},
   "outputs": [],
   "source": [
    "xscaler = StandardScaler()\n",
    "tposx = ['Latitude']\n",
    "posx1 = ['latitude_1']\n",
    "posx2 = ['latitude_2']\n",
    "posx3 = ['latitude_3']\n",
    "\n",
    "yscaler = StandardScaler()\n",
    "tposy = ['Longitude']\n",
    "posy1 = ['longitude_1']\n",
    "posy2 = ['longitude_2']\n",
    "posy3 = ['longitude_3']"
   ]
  },
  {
   "cell_type": "code",
   "execution_count": 63,
   "id": "0a49f34d-68f5-4c4a-a588-2b23ec4354ae",
   "metadata": {},
   "outputs": [],
   "source": [
    "train_df[tposx] = xscaler.fit_transform(train_df[tposx])\n",
    "train_df[posx1] = xscaler.transform(train_df[posx1])\n",
    "train_df[posx2] = xscaler.transform(train_df[posx2])\n",
    "train_df[posx3] = xscaler.transform(train_df[posx3])\n",
    "\n",
    "test_df[tposx] = xscaler.transform(test_df[tposx])\n",
    "test_df[posx1] = xscaler.transform(test_df[posx1])\n",
    "test_df[posx2] = xscaler.transform(test_df[posx2])\n",
    "test_df[posx3] = xscaler.transform(test_df[posx3])\n",
    "\n",
    "train_df[tposy] = yscaler.fit_transform(train_df[tposy])\n",
    "train_df[posy1] = yscaler.transform(train_df[posy1])\n",
    "train_df[posy2] = yscaler.transform(train_df[posy2])\n",
    "train_df[posy3] = yscaler.transform(train_df[posy3])\n",
    "\n",
    "test_df[tposy] = yscaler.transform(test_df[tposy])\n",
    "test_df[posy1] = yscaler.transform(test_df[posy1])\n",
    "test_df[posy2] = yscaler.transform(test_df[posy2])\n",
    "test_df[posy3] = yscaler.transform(test_df[posy3])"
   ]
  },
  {
   "cell_type": "code",
   "execution_count": 64,
   "id": "771fddf3-b7af-41e6-b688-e355978f4ff4",
   "metadata": {},
   "outputs": [
    {
     "data": {
      "text/html": [
       "<div>\n",
       "<style scoped>\n",
       "    .dataframe tbody tr th:only-of-type {\n",
       "        vertical-align: middle;\n",
       "    }\n",
       "\n",
       "    .dataframe tbody tr th {\n",
       "        vertical-align: top;\n",
       "    }\n",
       "\n",
       "    .dataframe thead th {\n",
       "        text-align: right;\n",
       "    }\n",
       "</style>\n",
       "<table border=\"1\" class=\"dataframe\">\n",
       "  <thead>\n",
       "    <tr style=\"text-align: right;\">\n",
       "      <th></th>\n",
       "      <th>Latitude</th>\n",
       "      <th>Longitude</th>\n",
       "      <th>SSID_1</th>\n",
       "      <th>RSSI(dBm)_1</th>\n",
       "      <th>Obstacle_1</th>\n",
       "      <th>latitude_1</th>\n",
       "      <th>longitude_1</th>\n",
       "      <th>SSID_2</th>\n",
       "      <th>RSSI(dBm)_2</th>\n",
       "      <th>Obstacle_2</th>\n",
       "      <th>latitude_2</th>\n",
       "      <th>longitude_2</th>\n",
       "      <th>SSID_3</th>\n",
       "      <th>RSSI(dBm)_3</th>\n",
       "      <th>Obstacle_3</th>\n",
       "      <th>latitude_3</th>\n",
       "      <th>longitude_3</th>\n",
       "    </tr>\n",
       "  </thead>\n",
       "  <tbody>\n",
       "    <tr>\n",
       "      <th>0</th>\n",
       "      <td>-1.090943</td>\n",
       "      <td>-0.777915</td>\n",
       "      <td>1</td>\n",
       "      <td>-66</td>\n",
       "      <td>0</td>\n",
       "      <td>-1.147956</td>\n",
       "      <td>1.186707</td>\n",
       "      <td>2</td>\n",
       "      <td>-62</td>\n",
       "      <td>0</td>\n",
       "      <td>-0.979884</td>\n",
       "      <td>-1.555950</td>\n",
       "      <td>3</td>\n",
       "      <td>-63</td>\n",
       "      <td>0</td>\n",
       "      <td>1.263718</td>\n",
       "      <td>-0.678537</td>\n",
       "    </tr>\n",
       "    <tr>\n",
       "      <th>1</th>\n",
       "      <td>-1.090943</td>\n",
       "      <td>-0.777915</td>\n",
       "      <td>1</td>\n",
       "      <td>-66</td>\n",
       "      <td>0</td>\n",
       "      <td>-1.147956</td>\n",
       "      <td>1.186707</td>\n",
       "      <td>3</td>\n",
       "      <td>-63</td>\n",
       "      <td>0</td>\n",
       "      <td>1.263718</td>\n",
       "      <td>-0.678537</td>\n",
       "      <td>2</td>\n",
       "      <td>-62</td>\n",
       "      <td>0</td>\n",
       "      <td>-0.979884</td>\n",
       "      <td>-1.555950</td>\n",
       "    </tr>\n",
       "    <tr>\n",
       "      <th>2</th>\n",
       "      <td>-1.090943</td>\n",
       "      <td>-0.777915</td>\n",
       "      <td>2</td>\n",
       "      <td>-62</td>\n",
       "      <td>0</td>\n",
       "      <td>-0.979884</td>\n",
       "      <td>-1.555950</td>\n",
       "      <td>1</td>\n",
       "      <td>-66</td>\n",
       "      <td>0</td>\n",
       "      <td>-1.147956</td>\n",
       "      <td>1.186707</td>\n",
       "      <td>3</td>\n",
       "      <td>-63</td>\n",
       "      <td>0</td>\n",
       "      <td>1.263718</td>\n",
       "      <td>-0.678537</td>\n",
       "    </tr>\n",
       "    <tr>\n",
       "      <th>3</th>\n",
       "      <td>-1.090943</td>\n",
       "      <td>-0.777915</td>\n",
       "      <td>2</td>\n",
       "      <td>-62</td>\n",
       "      <td>0</td>\n",
       "      <td>-0.979884</td>\n",
       "      <td>-1.555950</td>\n",
       "      <td>3</td>\n",
       "      <td>-63</td>\n",
       "      <td>0</td>\n",
       "      <td>1.263718</td>\n",
       "      <td>-0.678537</td>\n",
       "      <td>1</td>\n",
       "      <td>-66</td>\n",
       "      <td>0</td>\n",
       "      <td>-1.147956</td>\n",
       "      <td>1.186707</td>\n",
       "    </tr>\n",
       "    <tr>\n",
       "      <th>4</th>\n",
       "      <td>-1.090943</td>\n",
       "      <td>-0.777915</td>\n",
       "      <td>3</td>\n",
       "      <td>-63</td>\n",
       "      <td>0</td>\n",
       "      <td>1.263718</td>\n",
       "      <td>-0.678537</td>\n",
       "      <td>1</td>\n",
       "      <td>-66</td>\n",
       "      <td>0</td>\n",
       "      <td>-1.147956</td>\n",
       "      <td>1.186707</td>\n",
       "      <td>2</td>\n",
       "      <td>-62</td>\n",
       "      <td>0</td>\n",
       "      <td>-0.979884</td>\n",
       "      <td>-1.555950</td>\n",
       "    </tr>\n",
       "  </tbody>\n",
       "</table>\n",
       "</div>"
      ],
      "text/plain": [
       "   Latitude  Longitude  SSID_1  RSSI(dBm)_1  Obstacle_1  latitude_1  \\\n",
       "0 -1.090943  -0.777915       1          -66           0   -1.147956   \n",
       "1 -1.090943  -0.777915       1          -66           0   -1.147956   \n",
       "2 -1.090943  -0.777915       2          -62           0   -0.979884   \n",
       "3 -1.090943  -0.777915       2          -62           0   -0.979884   \n",
       "4 -1.090943  -0.777915       3          -63           0    1.263718   \n",
       "\n",
       "   longitude_1  SSID_2  RSSI(dBm)_2  Obstacle_2  latitude_2  longitude_2  \\\n",
       "0     1.186707       2          -62           0   -0.979884    -1.555950   \n",
       "1     1.186707       3          -63           0    1.263718    -0.678537   \n",
       "2    -1.555950       1          -66           0   -1.147956     1.186707   \n",
       "3    -1.555950       3          -63           0    1.263718    -0.678537   \n",
       "4    -0.678537       1          -66           0   -1.147956     1.186707   \n",
       "\n",
       "   SSID_3  RSSI(dBm)_3  Obstacle_3  latitude_3  longitude_3  \n",
       "0       3          -63           0    1.263718    -0.678537  \n",
       "1       2          -62           0   -0.979884    -1.555950  \n",
       "2       3          -63           0    1.263718    -0.678537  \n",
       "3       1          -66           0   -1.147956     1.186707  \n",
       "4       2          -62           0   -0.979884    -1.555950  "
      ]
     },
     "execution_count": 64,
     "metadata": {},
     "output_type": "execute_result"
    },
    {
     "data": {
      "text/html": [
       "<div>\n",
       "<style scoped>\n",
       "    .dataframe tbody tr th:only-of-type {\n",
       "        vertical-align: middle;\n",
       "    }\n",
       "\n",
       "    .dataframe tbody tr th {\n",
       "        vertical-align: top;\n",
       "    }\n",
       "\n",
       "    .dataframe thead th {\n",
       "        text-align: right;\n",
       "    }\n",
       "</style>\n",
       "<table border=\"1\" class=\"dataframe\">\n",
       "  <thead>\n",
       "    <tr style=\"text-align: right;\">\n",
       "      <th></th>\n",
       "      <th>Latitude</th>\n",
       "      <th>Longitude</th>\n",
       "      <th>SSID_1</th>\n",
       "      <th>RSSI(dBm)_1</th>\n",
       "      <th>Obstacle_1</th>\n",
       "      <th>latitude_1</th>\n",
       "      <th>longitude_1</th>\n",
       "      <th>SSID_2</th>\n",
       "      <th>RSSI(dBm)_2</th>\n",
       "      <th>Obstacle_2</th>\n",
       "      <th>latitude_2</th>\n",
       "      <th>longitude_2</th>\n",
       "      <th>SSID_3</th>\n",
       "      <th>RSSI(dBm)_3</th>\n",
       "      <th>Obstacle_3</th>\n",
       "      <th>latitude_3</th>\n",
       "      <th>longitude_3</th>\n",
       "    </tr>\n",
       "  </thead>\n",
       "  <tbody>\n",
       "    <tr>\n",
       "      <th>0</th>\n",
       "      <td>-0.91015</td>\n",
       "      <td>-1.395416</td>\n",
       "      <td>1</td>\n",
       "      <td>-75</td>\n",
       "      <td>0</td>\n",
       "      <td>-1.147956</td>\n",
       "      <td>1.186707</td>\n",
       "      <td>2</td>\n",
       "      <td>-63</td>\n",
       "      <td>0</td>\n",
       "      <td>-0.979884</td>\n",
       "      <td>-1.555950</td>\n",
       "      <td>3</td>\n",
       "      <td>-72</td>\n",
       "      <td>0</td>\n",
       "      <td>1.263718</td>\n",
       "      <td>-0.678537</td>\n",
       "    </tr>\n",
       "    <tr>\n",
       "      <th>1</th>\n",
       "      <td>-0.91015</td>\n",
       "      <td>-1.395416</td>\n",
       "      <td>1</td>\n",
       "      <td>-75</td>\n",
       "      <td>0</td>\n",
       "      <td>-1.147956</td>\n",
       "      <td>1.186707</td>\n",
       "      <td>3</td>\n",
       "      <td>-72</td>\n",
       "      <td>0</td>\n",
       "      <td>1.263718</td>\n",
       "      <td>-0.678537</td>\n",
       "      <td>2</td>\n",
       "      <td>-63</td>\n",
       "      <td>0</td>\n",
       "      <td>-0.979884</td>\n",
       "      <td>-1.555950</td>\n",
       "    </tr>\n",
       "    <tr>\n",
       "      <th>2</th>\n",
       "      <td>-0.91015</td>\n",
       "      <td>-1.395416</td>\n",
       "      <td>2</td>\n",
       "      <td>-63</td>\n",
       "      <td>0</td>\n",
       "      <td>-0.979884</td>\n",
       "      <td>-1.555950</td>\n",
       "      <td>1</td>\n",
       "      <td>-75</td>\n",
       "      <td>0</td>\n",
       "      <td>-1.147956</td>\n",
       "      <td>1.186707</td>\n",
       "      <td>3</td>\n",
       "      <td>-72</td>\n",
       "      <td>0</td>\n",
       "      <td>1.263718</td>\n",
       "      <td>-0.678537</td>\n",
       "    </tr>\n",
       "    <tr>\n",
       "      <th>3</th>\n",
       "      <td>-0.91015</td>\n",
       "      <td>-1.395416</td>\n",
       "      <td>2</td>\n",
       "      <td>-63</td>\n",
       "      <td>0</td>\n",
       "      <td>-0.979884</td>\n",
       "      <td>-1.555950</td>\n",
       "      <td>3</td>\n",
       "      <td>-72</td>\n",
       "      <td>0</td>\n",
       "      <td>1.263718</td>\n",
       "      <td>-0.678537</td>\n",
       "      <td>1</td>\n",
       "      <td>-75</td>\n",
       "      <td>0</td>\n",
       "      <td>-1.147956</td>\n",
       "      <td>1.186707</td>\n",
       "    </tr>\n",
       "    <tr>\n",
       "      <th>4</th>\n",
       "      <td>-0.91015</td>\n",
       "      <td>-1.395416</td>\n",
       "      <td>3</td>\n",
       "      <td>-72</td>\n",
       "      <td>0</td>\n",
       "      <td>1.263718</td>\n",
       "      <td>-0.678537</td>\n",
       "      <td>1</td>\n",
       "      <td>-75</td>\n",
       "      <td>0</td>\n",
       "      <td>-1.147956</td>\n",
       "      <td>1.186707</td>\n",
       "      <td>2</td>\n",
       "      <td>-63</td>\n",
       "      <td>0</td>\n",
       "      <td>-0.979884</td>\n",
       "      <td>-1.555950</td>\n",
       "    </tr>\n",
       "  </tbody>\n",
       "</table>\n",
       "</div>"
      ],
      "text/plain": [
       "   Latitude  Longitude  SSID_1  RSSI(dBm)_1  Obstacle_1  latitude_1  \\\n",
       "0  -0.91015  -1.395416       1          -75           0   -1.147956   \n",
       "1  -0.91015  -1.395416       1          -75           0   -1.147956   \n",
       "2  -0.91015  -1.395416       2          -63           0   -0.979884   \n",
       "3  -0.91015  -1.395416       2          -63           0   -0.979884   \n",
       "4  -0.91015  -1.395416       3          -72           0    1.263718   \n",
       "\n",
       "   longitude_1  SSID_2  RSSI(dBm)_2  Obstacle_2  latitude_2  longitude_2  \\\n",
       "0     1.186707       2          -63           0   -0.979884    -1.555950   \n",
       "1     1.186707       3          -72           0    1.263718    -0.678537   \n",
       "2    -1.555950       1          -75           0   -1.147956     1.186707   \n",
       "3    -1.555950       3          -72           0    1.263718    -0.678537   \n",
       "4    -0.678537       1          -75           0   -1.147956     1.186707   \n",
       "\n",
       "   SSID_3  RSSI(dBm)_3  Obstacle_3  latitude_3  longitude_3  \n",
       "0       3          -72           0    1.263718    -0.678537  \n",
       "1       2          -63           0   -0.979884    -1.555950  \n",
       "2       3          -72           0    1.263718    -0.678537  \n",
       "3       1          -75           0   -1.147956     1.186707  \n",
       "4       2          -63           0   -0.979884    -1.555950  "
      ]
     },
     "execution_count": 64,
     "metadata": {},
     "output_type": "execute_result"
    }
   ],
   "source": [
    "train_df.head()\n",
    "test_df.head()"
   ]
  },
  {
   "cell_type": "code",
   "execution_count": 65,
   "id": "4975b513-8230-461f-a8b8-bb41afba140c",
   "metadata": {},
   "outputs": [],
   "source": [
    "x_label = train_df['Latitude'].values"
   ]
  },
  {
   "cell_type": "code",
   "execution_count": 66,
   "id": "368742ff-325c-43e0-a087-dfb0628d1bc0",
   "metadata": {},
   "outputs": [],
   "source": [
    "y_label = train_df['Longitude'].values"
   ]
  },
  {
   "cell_type": "code",
   "execution_count": 67,
   "id": "fafaf8e0-d27f-4d52-89aa-18f90313be94",
   "metadata": {},
   "outputs": [
    {
     "data": {
      "text/plain": [
       "array([[  1.        , -66.        ,   0.        , ...,   0.        ,\n",
       "          1.26371811,  -0.67853734],\n",
       "       [  1.        , -66.        ,   0.        , ...,   0.        ,\n",
       "         -0.97988377,  -1.55594968],\n",
       "       [  2.        , -62.        ,   0.        , ...,   0.        ,\n",
       "          1.26371811,  -0.67853734],\n",
       "       ...,\n",
       "       [  3.        , -72.        ,   0.        , ...,   0.        ,\n",
       "         -0.97988377,  -1.55594968],\n",
       "       [  2.        , -61.        ,   0.        , ...,   0.        ,\n",
       "          1.26371811,  -0.67853734],\n",
       "       [  3.        , -72.        ,   0.        , ...,   0.        ,\n",
       "          1.26371811,  -0.67853734]])"
      ]
     },
     "execution_count": 67,
     "metadata": {},
     "output_type": "execute_result"
    },
    {
     "data": {
      "text/plain": [
       "array([[  1.        , -75.        ,   0.        , ...,   0.        ,\n",
       "          1.26371811,  -0.67853734],\n",
       "       [  1.        , -75.        ,   0.        , ...,   0.        ,\n",
       "         -0.97988377,  -1.55594968],\n",
       "       [  2.        , -63.        ,   0.        , ...,   0.        ,\n",
       "          1.26371811,  -0.67853734],\n",
       "       ...,\n",
       "       [  1.        , -61.        ,   0.        , ...,   0.        ,\n",
       "         -0.97988377,  -1.55594968],\n",
       "       [  2.        , -68.        ,   0.        , ...,   0.        ,\n",
       "         -0.97988377,  -1.55594968],\n",
       "       [  2.        , -68.        ,   0.        , ...,   0.        ,\n",
       "         -1.14795617,   1.18670709]])"
      ]
     },
     "execution_count": 67,
     "metadata": {},
     "output_type": "execute_result"
    }
   ],
   "source": [
    "data = train_df.iloc[:, 2:].values\n",
    "data\n",
    "test_data = test_df.iloc[:,2:].values\n",
    "test_data"
   ]
  },
  {
   "cell_type": "code",
   "execution_count": 68,
   "id": "7d0c559e-af94-438b-8bb7-4ae38ccc7651",
   "metadata": {},
   "outputs": [
    {
     "data": {
      "text/plain": [
       "(1536, 15)"
      ]
     },
     "execution_count": 68,
     "metadata": {},
     "output_type": "execute_result"
    }
   ],
   "source": [
    "data.shape"
   ]
  },
  {
   "cell_type": "markdown",
   "id": "e8a55325-b675-4b5c-9985-cf174cd8d6df",
   "metadata": {},
   "source": [
    "### Construct dataset"
   ]
  },
  {
   "cell_type": "code",
   "execution_count": 69,
   "id": "622ae988-1c64-4edf-8380-ac9902400c97",
   "metadata": {},
   "outputs": [],
   "source": [
    "class RSSIDataset(Dataset):\n",
    "    # def __new__(cls, data, x_label, y_label):\n",
    "    #     # if not hasattr(cls, '_instance'):\n",
    "    #     #     cls._instance = super(RSSIDataset, cls).__new__(cls)\n",
    "    #     return super().__new__(cls)\n",
    "    def __init__(self, data, x_label, y_label):\n",
    "        # self.super(Dataset)\n",
    "        # super().__init__()\n",
    "        self.data = data\n",
    "        self.x_label = x_label\n",
    "        self.y_label = y_label\n",
    "        \n",
    "    def __len__(self):\n",
    "        return self.data.shape[0]\n",
    "    \n",
    "    def __getitem__(self, idx):\n",
    "        sample = torch.from_numpy(self.data[idx])\n",
    "        # x_label = torch.from_numpy(self.x_label[idx])\n",
    "        x_label = torch.tensor(self.x_label[idx])\n",
    "        y_label = torch.tensor(self.y_label[idx])\n",
    "        # y_label = torch.from_numpy(self.y_label[idx])\n",
    "        # return sample.float(), x_label.squeeze_(-1).float(), y_label.squeeze_(-1).float()\n",
    "        return sample.float(), x_label.unsqueeze_(-1).float(), y_label.unsqueeze_(-1).float()"
   ]
  },
  {
   "cell_type": "code",
   "execution_count": 70,
   "id": "0971aee2-7c47-4c54-9892-fb633686b293",
   "metadata": {},
   "outputs": [],
   "source": [
    "dataset = RSSIDataset(data, x_label, y_label)\n",
    "tdataset = RSSIDataset(test_data, x_tol, y_tol)"
   ]
  },
  {
   "cell_type": "code",
   "execution_count": 71,
   "id": "988b458d-cdf4-4cd4-b2b1-1dd2c57d04ec",
   "metadata": {},
   "outputs": [
    {
     "data": {
      "text/plain": [
       "(tensor([  3.0000, -63.0000,   0.0000,   1.2637,  -0.6785,   1.0000, -66.0000,\n",
       "           0.0000,  -1.1480,   1.1867,   2.0000, -62.0000,   0.0000,  -0.9799,\n",
       "          -1.5559]),\n",
       " tensor([-1.0909]),\n",
       " tensor([-0.7779]))"
      ]
     },
     "execution_count": 71,
     "metadata": {},
     "output_type": "execute_result"
    }
   ],
   "source": [
    "dataset[10]"
   ]
  },
  {
   "cell_type": "markdown",
   "id": "77fe05f8-6447-4b98-9bf5-73f74165dee4",
   "metadata": {},
   "source": [
    "## Train"
   ]
  },
  {
   "cell_type": "markdown",
   "id": "df809ce3-13e6-4f51-9fa0-aac364215ca5",
   "metadata": {},
   "source": [
    "### multi-task model"
   ]
  },
  {
   "cell_type": "code",
   "execution_count": 72,
   "id": "6ccd933c-da9c-44ca-893b-b0b536870d45",
   "metadata": {},
   "outputs": [],
   "source": [
    "class MLP(nn.Module):\n",
    "    def __init__(self, num_neuron = [15, 10, 5, 1], num_shared_layer = 1, deep_tower = 1):\n",
    "        super().__init__()\n",
    "        self.num_neuron = num_neuron\n",
    "        self.num_shared_layer = num_shared_layer\n",
    "        self.deep_tower = deep_tower\n",
    "        self.sl = nn.ModuleList([self.fc_layer(num_neuron[0:2])])\n",
    "        for i in range(1, num_shared_layer):\n",
    "            self.sl.append(self.fc_layer(num_neuron[i:i+2]))\n",
    "        self.towerx = nn.ModuleList([self.fc_layer(num_neuron[num_shared_layer:num_shared_layer+2])])\n",
    "        self.towery = nn.ModuleList([self.fc_layer(num_neuron[num_shared_layer:num_shared_layer+2])])\n",
    "        for i in range(1, deep_tower):\n",
    "            self.towerx.append(self.fc_layer(num_neuron[num_shared_layer+i:num_shared_layer+2+i]))\n",
    "            self.towery.append(self.fc_layer(num_neuron[num_shared_layer+i:num_shared_layer+2+i]))\n",
    "        # self.towerx = self.fc_layer(num_neuron[-3:-1])\n",
    "        # self.towery = self.fc_layer(num_neuron[-3:-1])\n",
    "        self.predx = nn.Linear(num_neuron[-2], num_neuron[-1])\n",
    "        self.predy = nn.Linear(num_neuron[-2], num_neuron[-1])\n",
    "            \n",
    "        \n",
    "    def forward(self, x):\n",
    "        for i in range(0, self.num_shared_layer):\n",
    "            x = self.sl[i](x)\n",
    "        tx = self.towerx[0](x)\n",
    "        ty = self.towery[0](x)\n",
    "        for i in range(1, self.deep_tower):\n",
    "            tx = self.towerx[i](tx)\n",
    "            ty = self.towery[i](ty)\n",
    "        return self.predx(tx), self.predy(ty)\n",
    "        # return self.predx(x), self.predy(x)\n",
    "            \n",
    "    def fc_layer(self, para):\n",
    "        fc_block = nn.Sequential(\n",
    "            nn.Linear(para[0], para[1]),\n",
    "            # nn.ReLU()\n",
    "            nn.Tanh()\n",
    "        )\n",
    "        return fc_block"
   ]
  },
  {
   "cell_type": "markdown",
   "id": "4f9226f6-b440-4baf-b217-c61be7a381fa",
   "metadata": {},
   "source": [
    "### Load best model and prediction"
   ]
  },
  {
   "cell_type": "code",
   "execution_count": 73,
   "id": "292848ea-00eb-424d-b440-c6de80ee00e3",
   "metadata": {},
   "outputs": [],
   "source": [
    "train_loader = DataLoader(dataset=dataset, shuffle=True, batch_size = 16)"
   ]
  },
  {
   "cell_type": "code",
   "execution_count": 74,
   "id": "c8a208ea-35dd-47d2-9e16-f1ae36a0ffb8",
   "metadata": {},
   "outputs": [],
   "source": [
    "# from math import radians, cos, sin, asin, sqrt\n",
    "def distance(lat1, lat2, lon1, lon2):\n",
    "    \n",
    "    # The math module contains a function named\n",
    "    # radians which converts from degrees to radians.\n",
    "    lon1 = np.radians(lon1)\n",
    "    lon2 = np.radians(lon2)\n",
    "    lat1 = np.radians(lat1)\n",
    "    lat2 = np.radians(lat2)\n",
    "    \n",
    "    # Haversine formula\n",
    "    dlon = lon2 - lon1\n",
    "    dlat = lat2 - lat1\n",
    "    a = np.sin(dlat / 2)**2 + np.cos(lat1) * np.cos(lat2) * np.sin(dlon / 2)**2\n",
    " \n",
    "    c = 2 * np.arcsin(np.sqrt(np.abs(a)))\n",
    "        \n",
    "    # Radius of earth in kilometers. Use 3956 for miles\n",
    "    r = 6378137\n",
    "      \n",
    "    # calculate the result\n",
    "    return (c * r)"
   ]
  },
  {
   "cell_type": "code",
   "execution_count": 80,
   "id": "f769549e",
   "metadata": {},
   "outputs": [
    {
     "data": {
      "text/plain": [
       "<All keys matched successfully>"
      ]
     },
     "execution_count": 80,
     "metadata": {},
     "output_type": "execute_result"
    }
   ],
   "source": [
    "mlp = MLP()\n",
    "mlp.load_state_dict(torch.load(\"39.pt\"))\n",
    "x_pred, y_pred = mlp(torch.from_numpy(tdataset.data[:]).float())\n",
    "x_pred = xscaler.inverse_transform(x_pred.detach().numpy())\n",
    "y_pred = yscaler.inverse_transform(y_pred.detach().numpy())\n",
    "d = distance(x_pred.squeeze(), x_tol, y_pred.squeeze(), y_tol)"
   ]
  },
  {
   "cell_type": "code",
   "execution_count": 81,
   "id": "8a698b2c",
   "metadata": {},
   "outputs": [
    {
     "data": {
      "text/plain": [
       "array([35.15864898, 35.15864898, 35.15864898, ..., 35.15859294,\n",
       "       35.15859294, 35.15859294])"
      ]
     },
     "execution_count": 81,
     "metadata": {},
     "output_type": "execute_result"
    }
   ],
   "source": [
    "x_tol"
   ]
  },
  {
   "cell_type": "code",
   "execution_count": 82,
   "id": "fc01b561",
   "metadata": {},
   "outputs": [
    {
     "data": {
      "text/plain": [
       "array([4.20029037, 2.45040685, 5.48041662, ..., 2.05865203, 2.05865203,\n",
       "       2.05865203])"
      ]
     },
     "execution_count": 82,
     "metadata": {},
     "output_type": "execute_result"
    }
   ],
   "source": [
    "d"
   ]
  },
  {
   "cell_type": "code",
   "execution_count": 83,
   "id": "0b75e8e3",
   "metadata": {},
   "outputs": [
    {
     "data": {
      "text/plain": [
       "7.568669106266748"
      ]
     },
     "execution_count": 83,
     "metadata": {},
     "output_type": "execute_result"
    }
   ],
   "source": [
    "d.mean()"
   ]
  },
  {
   "cell_type": "code",
   "execution_count": 84,
   "id": "df5fdebd",
   "metadata": {},
   "outputs": [
    {
     "data": {
      "text/plain": [
       "25.119281868934795"
      ]
     },
     "execution_count": 84,
     "metadata": {},
     "output_type": "execute_result"
    }
   ],
   "source": [
    "d.max()"
   ]
  },
  {
   "cell_type": "code",
   "execution_count": 85,
   "id": "5fd7c349",
   "metadata": {},
   "outputs": [
    {
     "data": {
      "text/plain": [
       "(1542,)"
      ]
     },
     "execution_count": 85,
     "metadata": {},
     "output_type": "execute_result"
    }
   ],
   "source": [
    "d.shape"
   ]
  },
  {
   "cell_type": "code",
   "execution_count": 86,
   "id": "64146a9b",
   "metadata": {},
   "outputs": [],
   "source": [
    "import matplotlib.pyplot as plt"
   ]
  },
  {
   "cell_type": "code",
   "execution_count": 92,
   "id": "e939055f",
   "metadata": {},
   "outputs": [
    {
     "data": {
      "text/plain": [
       "(array([157., 116., 130.,  22.,  40., 185., 137., 104., 151.,  30.,  78.,\n",
       "         46.,  27.,  60.,  58.,  28.,  20.,  33.,  18.,   0.,   0.,   1.,\n",
       "          0.,   0.,   0.,  21.,  20.,   1.,  39.,  20.]),\n",
       " array([ 0.74189455,  1.55447412,  2.3670537 ,  3.17963328,  3.99221286,\n",
       "         4.80479243,  5.61737201,  6.42995159,  7.24253117,  8.05511074,\n",
       "         8.86769032,  9.6802699 , 10.49284947, 11.30542905, 12.11800863,\n",
       "        12.93058821, 13.74316778, 14.55574736, 15.36832694, 16.18090652,\n",
       "        16.99348609, 17.80606567, 18.61864525, 19.43122483, 20.2438044 ,\n",
       "        21.05638398, 21.86896356, 22.68154314, 23.49412271, 24.30670229,\n",
       "        25.11928187]),\n",
       " <BarContainer object of 30 artists>)"
      ]
     },
     "execution_count": 92,
     "metadata": {},
     "output_type": "execute_result"
    },
    {
     "data": {
      "image/png": "[encoded data removed]",
      "text/plain": [
       "<Figure size 432x288 with 1 Axes>"
      ]
     },
     "metadata": {
      "needs_background": "light"
     },
     "output_type": "display_data"
    }
   ],
   "source": [
    "plt.hist(d, bins=30)\n",
    "plt.savefig('res.jpg', dpi=300)"
   ]
  },
  {
   "cell_type": "markdown",
   "id": "3bafddc3-a5ca-47e2-ad7c-3d05eac7d298",
   "metadata": {},
   "source": [
    "## Summary"
   ]
  },
  {
   "cell_type": "code",
   "execution_count": 46,
   "id": "921329cf-ec50-4686-8e64-9b183c3e6187",
   "metadata": {},
   "outputs": [
    {
     "name": "stdout",
     "output_type": "stream",
     "text": [
      "----------------------------------------results----------------------------------------\n",
      "mean error: 9.66662213 with std 0.90924379\n",
      "maximum error: 34.51337252 with std 8.18946170\n"
     ]
    }
   ],
   "source": [
    "print(40*'-' + 'results' + 40*'-')\n",
    "print(\"mean error: {:.8f} with std {:.8f}\".format(err_mean.mean(), err_mean.std()))\n",
    "print(\"maximum error: {:.8f} with std {:.8f}\".format(err_max.mean(), err_max.std()))"
   ]
  },
  {
   "cell_type": "code",
   "execution_count": 48,
   "id": "23e15d86-c320-4071-b92d-a4a916ff5f01",
   "metadata": {},
   "outputs": [
    {
     "data": {
      "text/plain": [
       "7.568669106266748"
      ]
     },
     "execution_count": 48,
     "metadata": {},
     "output_type": "execute_result"
    }
   ],
   "source": [
    "err_mean.min()"
   ]
  },
  {
   "cell_type": "code",
   "execution_count": 52,
   "id": "aca2aebe-4129-49af-b1b2-ba44852aa590",
   "metadata": {},
   "outputs": [
    {
     "data": {
      "text/plain": [
       "39"
      ]
     },
     "execution_count": 52,
     "metadata": {},
     "output_type": "execute_result"
    }
   ],
   "source": [
    "np.argmin(err_mean)"
   ]
  },
  {
   "cell_type": "code",
   "execution_count": 54,
   "id": "5e408a5c-b0a8-4f48-be56-499d4fae3ae1",
   "metadata": {},
   "outputs": [
    {
     "data": {
      "text/plain": [
       "7.568669106266748"
      ]
     },
     "execution_count": 54,
     "metadata": {},
     "output_type": "execute_result"
    },
    {
     "data": {
      "text/plain": [
       "25.119281868934795"
      ]
     },
     "execution_count": 54,
     "metadata": {},
     "output_type": "execute_result"
    }
   ],
   "source": [
    "err_mean[39]\n",
    "err_max[39]"
   ]
  },
  {
   "cell_type": "code",
   "execution_count": 55,
   "id": "16980bc3-50b6-41c9-9fc0-61a226345cca",
   "metadata": {},
   "outputs": [],
   "source": [
    "np.savez('res.npz', err_mean=err_mean, err_max=err_max)"
   ]
  }
 ],
 "metadata": {
  "kernelspec": {
   "display_name": "Python 3.9.7 ('AI')",
   "language": "python",
   "name": "python3"
  },
  "language_info": {
   "codemirror_mode": {
    "name": "ipython",
    "version": 3
   },
   "file_extension": ".py",
   "mimetype": "text/x-python",
   "name": "python",
   "nbconvert_exporter": "python",
   "pygments_lexer": "ipython3",
   "version": "3.9.7"
  },
  "vscode": {
   "interpreter": {
    "hash": "338fb61bbdeceaafb5020ce43f6435d3c09ec70a0b5f13194aedc46f5b9b7159"
   }
  }
 },
 "nbformat": 4,
 "nbformat_minor": 5
}
